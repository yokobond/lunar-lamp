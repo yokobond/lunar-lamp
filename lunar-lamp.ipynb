{
 "cells": [
  {
   "cell_type": "markdown",
   "metadata": {},
   "source": [
    "ユーティリティ"
   ]
  },
  {
   "cell_type": "code",
   "execution_count": 1,
   "metadata": {},
   "outputs": [],
   "source": [
    "import requests\n",
    "from tqdm import tqdm\n",
    "\n",
    "def download_with_progress(url, filename):\n",
    "    \"\"\"Download file with progress bar\"\"\"\n",
    "    response = requests.get(url, stream=True)\n",
    "    total_size = int(response.headers.get('content-length', 0))\n",
    "    \n",
    "    with open(filename, 'wb') as f, tqdm(\n",
    "        desc=filename,\n",
    "        total=total_size,\n",
    "        unit='iB',\n",
    "        unit_scale=True\n",
    "    ) as pbar:\n",
    "        for data in response.iter_content(chunk_size=1024):\n",
    "            size = f.write(data)\n",
    "            pbar.update(size)"
   ]
  },
  {
   "cell_type": "markdown",
   "metadata": {},
   "source": [
    "月の標高データはNASAが観測したデータを利用しやすいように加工して、誰でも利用できるように公開しています。\n",
    "ここでは、[Moon LRO LOLA DEM 118m](https://astrogeology.usgs.gov/search/map/moon_lro_lola_dem_118m) を利用しました。\n",
    "このデータはNASAの月探査機ルナー・リコネッサンス・オービター（LRO）搭載の月レーザー高度計（LOLA）のデータに基づいたデジタル標高モデル（DEM）です。\n",
    "\n",
    "月面の標高データのURLと、それを保存するファイル名を指定して、ダウンロードを行います。\n",
    "ただし、データの量も8GBと、少し大きめなので、ダウンロードには時間がかかり、データ処理をするPCにも相応の量のメモリが必要となります。\n",
    "(すでにローカルフォルダにダウンロードしたデータがあれば、ダウンロードしません。)"
   ]
  },
  {
   "cell_type": "code",
   "execution_count": 2,
   "metadata": {},
   "outputs": [
    {
     "name": "stdout",
     "output_type": "stream",
     "text": [
      "Data already downloaded.\n"
     ]
    }
   ],
   "source": [
    "import os\n",
    "\n",
    "lunar_dem_url = \"https://planetarymaps.usgs.gov/mosaic/Lunar_LRO_LOLA_Global_LDEM_118m_Mar2014.tif\"\n",
    "lunar_dem_file = os.path.join(os.getcwd(), 'data', os.path.basename(lunar_dem_url))\n",
    "lunar_dem_file\n",
    "\n",
    "# Download DEM file\n",
    "if os.path.exists(lunar_dem_file):\n",
    "    print(\"Data already downloaded.\")\n",
    "else:\n",
    "    print(\"Downloading data...\")\n",
    "    download_with_progress(lunar_dem_url, lunar_dem_file)"
   ]
  },
  {
   "cell_type": "markdown",
   "metadata": {},
   "source": [
    "[Rasterio](https://github.com/rasterio/rasterio) を使用して月の標高モデルファイルを読み込みます。\n",
    "\n",
    "Rasterio は、地形のラスタデータを読み書きするためのPythonパッケージです。ここで使う月面DEMのGeoTiffデータを読み込んで、そこに含まれるメタデータなどを利用できます。"
   ]
  },
  {
   "cell_type": "code",
   "execution_count": 3,
   "metadata": {},
   "outputs": [
    {
     "name": "stdout",
     "output_type": "stream",
     "text": [
      "{'driver': 'GTiff',\n",
      " 'dtype': 'int16',\n",
      " 'nodata': -32768.0,\n",
      " 'width': 92160,\n",
      " 'height': 46080,\n",
      " 'count': 1,\n",
      " 'crs': CRS.from_wkt('PROJCS[\"SimpleCylindrical Moon\",GEOGCS[\"GCS_Moon\",DATUM[\"D_Moon\",SPHEROID[\"Moon\",1737400,0]],PRIMEM[\"Reference_Meridian\",0],UNIT[\"degree\",0.0174532925199433,AUTHORITY[\"EPSG\",\"9122\"]]],PROJECTION[\"Equirectangular\"],PARAMETER[\"standard_parallel_1\",0],PARAMETER[\"central_meridian\",0],PARAMETER[\"false_easting\",0],PARAMETER[\"false_northing\",0],UNIT[\"metre\",1,AUTHORITY[\"EPSG\",\"9001\"]],AXIS[\"Easting\",EAST],AXIS[\"Northing\",NORTH]]'),\n",
      " 'transform': Affine(118.4505876, 0.0, -5458203.076608,\n",
      "       0.0, -118.4505876, 2729101.538304)}\n"
     ]
    }
   ],
   "source": [
    "import rasterio\n",
    "import pprint\n",
    "\n",
    "lunar_dem_dataset = rasterio.open(lunar_dem_file)\n",
    "\n",
    "# Display metadata\n",
    "pprint.pp(lunar_dem_dataset.meta)"
   ]
  },
  {
   "cell_type": "markdown",
   "metadata": {},
   "source": [
    "読み込んだ月面DEMのデータを3Dモデルへ変換します。\n",
    "\n",
    "月面DEMは標準半径の球面からの差分の値で記録されているので、基準の球面に凹凸をつけることで月面の地形を表現できます。\n",
    "\n",
    "そのためにまず、3Dモデル処理パッケージの PyVista で月の平均半径（1,737,400メートル）の球（Sphere）のメッシュモデルを作成します。\n",
    "次に、その球形のメッシュを構成する各点を月面DEMの標高データにしたがって移動してから、出力するモデルの大きさに縮小して新しいメッシュをつくります。\n",
    "\n",
    "ここで、月面DEMの標高データをそのままの尺度で利用してしまうと、小さな立体モデルをつくったときにクレーターなどの盛り上がりが低すぎてよく見えません。\n",
    "そこで、メッシュを変形させるときに変形の度合いを強くすることで、地形を強調できるようにしています。"
   ]
  },
  {
   "cell_type": "code",
   "execution_count": 4,
   "metadata": {},
   "outputs": [],
   "source": [
    "import numpy as np\n",
    "import math\n",
    "import pyvista as pv\n",
    "from rasterio.transform import rowcol\n",
    "\n",
    "def map_data_on_sphere(data, transform, nodata, radius, lon_res, lat_res, data_scale):\n",
    "    \n",
    "    # 与えられた解像度で球体を作成\n",
    "    sphere = pv.Sphere(radius=radius, theta_resolution=lon_res, phi_resolution=lat_res)\n",
    "    \n",
    "    # 球体の点からデータを取得し、データに従って出力モデルの点を変更\n",
    "    points = sphere.points.copy()\n",
    "    new_points = points.copy()\n",
    "    \n",
    "    for i, pt in enumerate(points):\n",
    "        x, y, z = pt\n",
    "        r = np.linalg.norm(pt) # 球体の中心(原点)からの距離を計算\n",
    "        if r == 0:\n",
    "            continue\n",
    "\n",
    "        # 球体の表面の点に対応する地理座標(緯度、経度)を計算\n",
    "        lat_deg = math.degrees(math.asin(z / r))\n",
    "        lon_deg = math.degrees(math.atan2(y, x))\n",
    "\n",
    "        # 地理座標(緯度、経度)[度]を投影座標系(x, y)[m]に変換\n",
    "        # 単純な円筒投影を仮定している\n",
    "        x_proj = radius * math.radians(lon_deg)\n",
    "        y_proj = radius * math.radians(lat_deg)\n",
    "        \n",
    "        # 球体の表面の点に対応するデータの値を取得\n",
    "        try:\n",
    "            row, col = rowcol(transform, x_proj, y_proj)\n",
    "            elev = data[row, col]\n",
    "            if elev == nodata:\n",
    "                elev = 0\n",
    "        except Exception:\n",
    "            elev = 0\n",
    "        \n",
    "        # データに従って出力モデルの点を計算する\n",
    "        new_r = r + elev * data_scale # 元の半径にデータの値を加える\n",
    "        factor = new_r / r # 元の半径と変異した半径との比率\n",
    "        new_points[i] = pt * factor # 元の球体の点の座標と変異率で計算した出力モデルの点\n",
    "    \n",
    "    # 出力モデルの点を更新\n",
    "    sphere.points = new_points\n",
    "    return sphere\n"
   ]
  },
  {
   "cell_type": "markdown",
   "metadata": {},
   "source": [
    "この関数を使って、3Dプリントに適した解像度や地形の強調度合いに調整して3Dモデルをつくります。"
   ]
  },
  {
   "cell_type": "code",
   "execution_count": 5,
   "metadata": {},
   "outputs": [],
   "source": [
    "moon_radius=1737400 # 月の平均半径[m]\n",
    "longitude_resolution = 360 * 4 # 経度方向の解像度\n",
    "latitude_resolution = 180 * 4  # 緯度方向の解像度\n",
    "data_scale = 2.0  # DEMの効果を誇張するために調整\n",
    "\n",
    "# 球体にデータをマッピングする\n",
    "lunar_surface = map_data_on_sphere(\n",
    "    data=lunar_dem_dataset.read(1),\n",
    "    transform=lunar_dem_dataset.transform,\n",
    "    nodata=lunar_dem_dataset.nodata,\n",
    "    radius=moon_radius,\n",
    "    lon_res=longitude_resolution,\n",
    "    lat_res=latitude_resolution,\n",
    "    data_scale=data_scale,\n",
    "    )\n"
   ]
  },
  {
   "cell_type": "markdown",
   "metadata": {},
   "source": [
    "3Dモデルを表示してみます。"
   ]
  },
  {
   "cell_type": "code",
   "execution_count": 6,
   "metadata": {},
   "outputs": [
    {
     "data": {
      "application/vnd.jupyter.widget-view+json": {
       "model_id": "5a51d6225b4a40558b5f9cec754e8342",
       "version_major": 2,
       "version_minor": 0
      },
      "text/plain": [
       "Widget(value='<iframe src=\"http://localhost:62068/index.html?ui=P_0x14e54efc0_0&reconnect=auto\" class=\"pyvista…"
      ]
     },
     "metadata": {},
     "output_type": "display_data"
    }
   ],
   "source": [
    "plotter = pv.Plotter()\n",
    "plotter.add_mesh(lunar_surface, show_edges=False, color=\"white\")\n",
    "plotter.add_title(\"Lunar DEM\\nres={} x {}, scale={}\".format(longitude_resolution, latitude_resolution, data_scale))\n",
    "plotter.show()"
   ]
  },
  {
   "cell_type": "markdown",
   "metadata": {},
   "source": [
    "次に、月面の色のデータを読み込みます。\n",
    "\n",
    "月面の色のデータは、NASA の [CGI Moon Kit](https://svs.gsfc.nasa.gov/4720/) から取得しました。\n",
    "このデータは、実測されたカラーデータの 7 つの波長帯域のうち 3 つを変更して組み合わせ、人間の目で見たものに近づけています。\n",
    "ソースデータは、月面の 70°N から 70°S までをカバーしていて、残りの部分は単色のデータと標高データから補完されています。\n",
    "\n",
    "ここで利用したのは数十cmの3Dモデルに十分な細かさの4kのデータです。\n",
    "3Dモデルの厚さに利用するため、元のRGBカラーデータをモノクロに変換しておきます。"
   ]
  },
  {
   "cell_type": "markdown",
   "metadata": {},
   "source": [
    "月面の色データをダウンロードします。\n",
    "(すでにローカルフォルダにダウンロードしたデータがあれば、ダウンロードしません。)"
   ]
  },
  {
   "cell_type": "code",
   "execution_count": 7,
   "metadata": {},
   "outputs": [
    {
     "name": "stdout",
     "output_type": "stream",
     "text": [
      "Data already downloaded.\n",
      "<PIL.TiffImagePlugin.TiffImageFile image mode=RGB size=4096x2048 at 0x301B65250>\n",
      "<PIL.Image.Image image mode=L size=4096x2048 at 0x315121CD0>\n"
     ]
    }
   ],
   "source": [
    "import os\n",
    "from PIL import Image\n",
    "import pprint\n",
    "\n",
    "lunar_color_url = \"https://svs.gsfc.nasa.gov/vis/a000000/a004700/a004720/lroc_color_poles_4k.tif\"\n",
    "lunar_color_file = os.path.join(os.getcwd(), 'data', os.path.basename(lunar_color_url))\n",
    "\n",
    "# Download color file\n",
    "if os.path.exists(lunar_color_file):\n",
    "    print(\"Data already downloaded.\")\n",
    "else:\n",
    "    print(\"Downloading data...\")\n",
    "    download_with_progress(lunar_color_url, lunar_color_file)\n",
    "\n",
    "color_data = Image.open(lunar_color_file)\n",
    "pprint.pp(color_data)\n",
    "\n",
    "if color_data.mode == \"RGB\":\n",
    "    # モノクロ画像に変換\n",
    "    color_data_gray = color_data.convert(\"L\")\n",
    "\n",
    "pprint.pp(color_data_gray)"
   ]
  },
  {
   "cell_type": "markdown",
   "metadata": {},
   "source": [
    "読み込んだ月面の色のデータを球体の凹凸へ変換します。\n",
    "\n",
    "与えられた表面のメッシュを構成する各点を月面の色のデータにしたがって移動して、メッシュを変形させます。\n",
    "このとき、モノクロ色データが最大値を取ったときに元の表面からの変異を0にするように変形させます。\n",
    "このようにすることで、明るいところが盛り上がり、暗いところが凹むような変形を行います。"
   ]
  },
  {
   "cell_type": "code",
   "execution_count": null,
   "metadata": {},
   "outputs": [],
   "source": [
    "import numpy as np\n",
    "import math\n",
    "import pyvista as pv\n",
    "from rasterio.transform import rowcol\n",
    "\n",
    "def shade_on_surface(shade_data, transform, nodata, radius, surface, data_scale):\n",
    "    \"\"\"\n",
    "    与えられた表面のメッシュデータを色データに従って変形させる関数\n",
    "    Args:\n",
    "        data (numpy.ndarray): データの配列\n",
    "        transform (rasterio.transform.Transform): ラスターの変換\n",
    "        nodata (int): データの欠損値\n",
    "        radius (float): 実物の半径\n",
    "        surface (mesh): 表面のメッシュデータ\n",
    "        data_scale (float): データのスケール(凹凸の強調)\n",
    "    Returns:\n",
    "        mesh: 元の表面を変形させたメッシュデータ\n",
    "    \"\"\"\n",
    "\n",
    "    shade_mesh = surface.copy()\n",
    "    \n",
    "    # maxとminの値を取得\n",
    "    max_val = np.nanmax(shade_data)\n",
    "    # min_val = np.nanmin(shade_data)\n",
    "    \n",
    "    # 表面の点からデータを取得し、データに従って出力モデルの点を変更\n",
    "    points = shade_mesh.points.copy()\n",
    "    new_points = points.copy()\n",
    "    \n",
    "    for i, pt in enumerate(points):\n",
    "        x, y, z = pt\n",
    "        r = np.linalg.norm(pt) # 原点からの距離を計算\n",
    "        if r == 0:\n",
    "            continue\n",
    "\n",
    "        # 表面の点に対応する地理座標(緯度、経度)を計算\n",
    "        lat_deg = math.degrees(math.asin(z / r))\n",
    "        lon_deg = math.degrees(math.atan2(y, x))\n",
    "\n",
    "        # 地理座標(緯度、経度)[度]を投影座標系(x, y)[m]に変換\n",
    "        # 単純な円筒投影を仮定している\n",
    "        x_proj = radius * math.radians(lon_deg)\n",
    "        y_proj = radius * math.radians(lat_deg)\n",
    "        \n",
    "        # 表面の点に対応するデータの値を取得\n",
    "        try:\n",
    "            row, col = rowcol(transform, x_proj, y_proj)\n",
    "            elev = shade_data[row, col]\n",
    "            if elev == nodata:\n",
    "                elev = 0\n",
    "        except Exception:\n",
    "            elev = 0\n",
    "\n",
    "        # データに従って出力モデルの点を計算する\n",
    "        new_r = r + elev * data_scale # 元の距離にデータの値を加える\n",
    "        new_r = new_r - (max_val * data_scale) # データの最大値のときに、表面との距離を0にする\n",
    "        factor = new_r / r # 元の距離と変異した距離との比率\n",
    "        new_points[i] = pt * factor # 方向を変えずに、距離を変化させる\n",
    "    \n",
    "    # 出力モデルの点を更新\n",
    "    shade_mesh.points = new_points\n",
    "    return shade_mesh"
   ]
  },
  {
   "cell_type": "markdown",
   "metadata": {},
   "source": [
    "色の平面画像データを月面へマップするために利用するアフィン変換を用意します。"
   ]
  },
  {
   "cell_type": "code",
   "execution_count": 9,
   "metadata": {},
   "outputs": [
    {
     "data": {
      "text/plain": [
       "Affine(2665.138220872513, 0.0, 5458203.076346907,\n",
       "       0.0, -2665.138220872513, 2729101.5381734534)"
      ]
     },
     "execution_count": 9,
     "metadata": {},
     "output_type": "execute_result"
    }
   ],
   "source": [
    "from affine import Affine\n",
    "\n",
    "lunar_color_data = np.array(color_data_gray)\n",
    "image_width = color_data.width # pixels\n",
    "image_height = color_data.height #pixels\n",
    "\n",
    "# lunar_color_data = lunar_color_dataset.read(1)\n",
    "# image_width = lunar_color_dataset.width # pixels\n",
    "# image_height = lunar_color_dataset.height #pixels\n",
    "\n",
    "moon_radius = 1737400  # meters\n",
    "moon_circumference = 2 * math.pi * moon_radius\n",
    "color_lon_res =  moon_circumference / image_width\n",
    "color_lat_res = (moon_circumference / 2) / image_height\n",
    "color_center_lon = moon_circumference / 2\n",
    "color_center_lat = moon_circumference / 4\n",
    "color_transform = Affine(color_lon_res, 0, color_center_lon,\n",
    "                         0, - color_lat_res, color_center_lat)\n",
    "color_transform"
   ]
  },
  {
   "cell_type": "markdown",
   "metadata": {},
   "source": [
    "色の値を厚さへ変換する度合いを設定して、クレーターのある表面のメッシュモデルを色データで変形させたモデルを作成します。"
   ]
  },
  {
   "cell_type": "code",
   "execution_count": null,
   "metadata": {},
   "outputs": [
    {
     "data": {
      "text/html": [
       "<table style='width: 100%;'><tr><th>Header</th><th>Data Arrays</th></tr><tr><td>\n",
       "<table style='width: 100%;'>\n",
       "<tr><th>PolyData</th><th>Information</th></tr>\n",
       "<tr><td>N Cells</td><td>2067840</td></tr>\n",
       "<tr><td>N Points</td><td>1033922</td></tr>\n",
       "<tr><td>N Strips</td><td>0</td></tr>\n",
       "<tr><td>X Bounds</td><td>-1.747e+06, 1.723e+06</td></tr>\n",
       "<tr><td>Y Bounds</td><td>-1.739e+06, 1.719e+06</td></tr>\n",
       "<tr><td>Z Bounds</td><td>-1.743e+06, 1.726e+06</td></tr>\n",
       "<tr><td>N Arrays</td><td>1</td></tr>\n",
       "</table>\n",
       "\n",
       "</td><td>\n",
       "<table style='width: 100%;'>\n",
       "<tr><th>Name</th><th>Field</th><th>Type</th><th>N Comp</th><th>Min</th><th>Max</th></tr>\n",
       "<tr><td>Normals</td><td>Points</td><td>float32</td><td>3</td><td>-1.000e+00</td><td>1.000e+00</td></tr>\n",
       "</table>\n",
       "\n",
       "</td></tr> </table>"
      ],
      "text/plain": [
       "PolyData (0x315103d00)\n",
       "  N Cells:    2067840\n",
       "  N Points:   1033922\n",
       "  N Strips:   0\n",
       "  X Bounds:   -1.747e+06, 1.723e+06\n",
       "  Y Bounds:   -1.739e+06, 1.719e+06\n",
       "  Z Bounds:   -1.743e+06, 1.726e+06\n",
       "  N Arrays:   1"
      ]
     },
     "execution_count": 10,
     "metadata": {},
     "output_type": "execute_result"
    }
   ],
   "source": [
    "data_scale = 200.0  # change to exaggerate the data effect\n",
    "\n",
    "lunar_shade_surface = shade_on_surface(\n",
    "    shade_data=lunar_color_data, \n",
    "    transform=color_transform, \n",
    "    nodata=0, \n",
    "    radius=moon_radius,\n",
    "    surface=lunar_surface,\n",
    "    data_scale=data_scale,\n",
    "    )\n",
    "\n",
    "lunar_shade_surface"
   ]
  },
  {
   "cell_type": "markdown",
   "metadata": {},
   "source": [
    "3Dモデルを表示してみます。"
   ]
  },
  {
   "cell_type": "code",
   "execution_count": 11,
   "metadata": {},
   "outputs": [
    {
     "data": {
      "application/vnd.jupyter.widget-view+json": {
       "model_id": "f77ee44a139241ffa06a1799d4d3c988",
       "version_major": 2,
       "version_minor": 0
      },
      "text/plain": [
       "Widget(value='<iframe src=\"http://localhost:62068/index.html?ui=P_0x31513ab10_1&reconnect=auto\" class=\"pyvista…"
      ]
     },
     "metadata": {},
     "output_type": "display_data"
    }
   ],
   "source": [
    "plotter = pv.Plotter()\n",
    "plotter.add_mesh(lunar_shade_surface, show_edges=False, opacity=1)\n",
    "plotter.add_title(\"Lunar Color\\nres={} x {}, scale={}\".format(longitude_resolution, latitude_resolution, data_scale))\n",
    "plotter.show()"
   ]
  },
  {
   "cell_type": "markdown",
   "metadata": {},
   "source": []
  },
  {
   "cell_type": "markdown",
   "metadata": {},
   "source": [
    "```\n",
    "longitude_resolution = 360 * 4\n",
    "latitude_resolution = 180 * 4\n",
    "```\n",
    "\n",
    "この解像度で球体を作ると、点の数が100万個ほどになります。これは10cmくらいの3Dプリントとして出力するには多すぎます。\n",
    "\n",
    "元の球体のメッシュは均一な大きさのセルで作られているので、平坦な地形に見られる不必要に細かいメッシュを間引きします。\n"
   ]
  },
  {
   "cell_type": "markdown",
   "metadata": {},
   "source": [
    "元の月の色データの値"
   ]
  },
  {
   "cell_type": "code",
   "execution_count": 12,
   "metadata": {},
   "outputs": [
    {
     "data": {
      "text/html": [
       "<table style='width: 100%;'><tr><th>Header</th><th>Data Arrays</th></tr><tr><td>\n",
       "<table style='width: 100%;'>\n",
       "<tr><th>PolyData</th><th>Information</th></tr>\n",
       "<tr><td>N Cells</td><td>2067840</td></tr>\n",
       "<tr><td>N Points</td><td>1033922</td></tr>\n",
       "<tr><td>N Strips</td><td>0</td></tr>\n",
       "<tr><td>X Bounds</td><td>-1.747e+06, 1.723e+06</td></tr>\n",
       "<tr><td>Y Bounds</td><td>-1.739e+06, 1.719e+06</td></tr>\n",
       "<tr><td>Z Bounds</td><td>-1.743e+06, 1.726e+06</td></tr>\n",
       "<tr><td>N Arrays</td><td>1</td></tr>\n",
       "</table>\n",
       "\n",
       "</td><td>\n",
       "<table style='width: 100%;'>\n",
       "<tr><th>Name</th><th>Field</th><th>Type</th><th>N Comp</th><th>Min</th><th>Max</th></tr>\n",
       "<tr><td>Normals</td><td>Points</td><td>float32</td><td>3</td><td>-1.000e+00</td><td>1.000e+00</td></tr>\n",
       "</table>\n",
       "\n",
       "</td></tr> </table>"
      ],
      "text/plain": [
       "PolyData (0x315103d00)\n",
       "  N Cells:    2067840\n",
       "  N Points:   1033922\n",
       "  N Strips:   0\n",
       "  X Bounds:   -1.747e+06, 1.723e+06\n",
       "  Y Bounds:   -1.739e+06, 1.719e+06\n",
       "  Z Bounds:   -1.743e+06, 1.726e+06\n",
       "  N Arrays:   1"
      ]
     },
     "execution_count": 12,
     "metadata": {},
     "output_type": "execute_result"
    }
   ],
   "source": [
    "lunar_shade_surface"
   ]
  },
  {
   "cell_type": "markdown",
   "metadata": {},
   "source": [
    "元のメッシュデータを [pyvista.PolyDataFilters.decimate()](https://pyvista.github.io/pyvista-docs-dev-ja/api/core/_autosummary/pyvista.PolyDataFilters.decimate.html#pyvista.PolyDataFilters.decimate) を使って間引きします。"
   ]
  },
  {
   "cell_type": "code",
   "execution_count": 13,
   "metadata": {},
   "outputs": [
    {
     "name": "stdout",
     "output_type": "stream",
     "text": [
      "Reducing 90.0 percent out of the original mesh\n"
     ]
    },
    {
     "data": {
      "text/html": [
       "\n",
       "<table style='width: 100%;'>\n",
       "<tr><th>PolyData</th><th>Information</th></tr>\n",
       "<tr><td>N Cells</td><td>206784</td></tr>\n",
       "<tr><td>N Points</td><td>103420</td></tr>\n",
       "<tr><td>N Strips</td><td>0</td></tr>\n",
       "<tr><td>X Bounds</td><td>-1.743e+06, 1.723e+06</td></tr>\n",
       "<tr><td>Y Bounds</td><td>-1.737e+06, 1.720e+06</td></tr>\n",
       "<tr><td>Z Bounds</td><td>-1.741e+06, 1.725e+06</td></tr>\n",
       "<tr><td>N Arrays</td><td>0</td></tr>\n",
       "</table>\n",
       "\n"
      ],
      "text/plain": [
       "PolyData (0x3151630a0)\n",
       "  N Cells:    206784\n",
       "  N Points:   103420\n",
       "  N Strips:   0\n",
       "  X Bounds:   -1.743e+06, 1.723e+06\n",
       "  Y Bounds:   -1.737e+06, 1.720e+06\n",
       "  Z Bounds:   -1.741e+06, 1.725e+06\n",
       "  N Arrays:   0"
      ]
     },
     "execution_count": 13,
     "metadata": {},
     "output_type": "execute_result"
    }
   ],
   "source": [
    "target_reduction = 0.90\n",
    "print(f\"Reducing {target_reduction * 100.0} percent out of the original mesh\")\n",
    "lunar_shade_surface_decimated = lunar_shade_surface.decimate(target_reduction)\n",
    "lunar_shade_surface_decimated"
   ]
  },
  {
   "cell_type": "markdown",
   "metadata": {},
   "source": [
    "間引きした結果を3D表示して表面を見てみましょう。"
   ]
  },
  {
   "cell_type": "code",
   "execution_count": 14,
   "metadata": {},
   "outputs": [
    {
     "data": {
      "application/vnd.jupyter.widget-view+json": {
       "model_id": "81e0db1b556c41a4aee8d4405a28fba5",
       "version_major": 2,
       "version_minor": 0
      },
      "text/plain": [
       "Widget(value='<iframe src=\"http://localhost:62068/index.html?ui=P_0x31513b110_2&reconnect=auto\" class=\"pyvista…"
      ]
     },
     "metadata": {},
     "output_type": "display_data"
    }
   ],
   "source": [
    "plotter = pv.Plotter(shape=(1, 2))\n",
    "plotter.add_mesh(lunar_shade_surface, show_edges=False, color=\"white\")\n",
    "plotter.add_title(\"Original\\nCells={}\\nPoints={}\".format(lunar_shade_surface.n_cells, lunar_shade_surface.n_points))\n",
    "plotter.subplot(0, 1)\n",
    "plotter.add_mesh(lunar_shade_surface_decimated, show_edges=False, color=\"white\")\n",
    "plotter.add_title(\"decinate()\\nCells={}\\nPoints={}\".format(lunar_shade_surface_decimated.n_cells, lunar_shade_surface_decimated.n_points))\n",
    "plotter.show()"
   ]
  },
  {
   "cell_type": "markdown",
   "metadata": {},
   "source": [
    "月面も同じように間引きします。"
   ]
  },
  {
   "cell_type": "code",
   "execution_count": 15,
   "metadata": {},
   "outputs": [
    {
     "name": "stdout",
     "output_type": "stream",
     "text": [
      "Reducing 90.0 percent out of the original mesh\n"
     ]
    },
    {
     "data": {
      "text/html": [
       "\n",
       "<table style='width: 100%;'>\n",
       "<tr><th>PolyData</th><th>Information</th></tr>\n",
       "<tr><td>N Cells</td><td>206784</td></tr>\n",
       "<tr><td>N Points</td><td>103446</td></tr>\n",
       "<tr><td>N Strips</td><td>0</td></tr>\n",
       "<tr><td>X Bounds</td><td>-1.755e+06, 1.738e+06</td></tr>\n",
       "<tr><td>Y Bounds</td><td>-1.753e+06, 1.740e+06</td></tr>\n",
       "<tr><td>Z Bounds</td><td>-1.759e+06, 1.742e+06</td></tr>\n",
       "<tr><td>N Arrays</td><td>0</td></tr>\n",
       "</table>\n",
       "\n"
      ],
      "text/plain": [
       "PolyData (0x314d72bc0)\n",
       "  N Cells:    206784\n",
       "  N Points:   103446\n",
       "  N Strips:   0\n",
       "  X Bounds:   -1.755e+06, 1.738e+06\n",
       "  Y Bounds:   -1.753e+06, 1.740e+06\n",
       "  Z Bounds:   -1.759e+06, 1.742e+06\n",
       "  N Arrays:   0"
      ]
     },
     "execution_count": 15,
     "metadata": {},
     "output_type": "execute_result"
    }
   ],
   "source": [
    "target_reduction = 0.90\n",
    "print(f\"Reducing {target_reduction * 100.0} percent out of the original mesh\")\n",
    "lunar_surface_decimated = lunar_surface.decimate(target_reduction)\n",
    "lunar_surface_decimated"
   ]
  },
  {
   "cell_type": "markdown",
   "metadata": {},
   "source": [
    "3Dプリントのために、サイズと厚みを指定して殻をつくります。"
   ]
  },
  {
   "cell_type": "code",
   "execution_count": null,
   "metadata": {},
   "outputs": [
    {
     "data": {
      "application/vnd.jupyter.widget-view+json": {
       "model_id": "9101cf7efdba4f67ba2a51f740e3d85a",
       "version_major": 2,
       "version_minor": 0
      },
      "text/plain": [
       "Widget(value='<iframe src=\"http://localhost:62068/index.html?ui=P_0x3389a00e0_12&reconnect=auto\" class=\"pyvist…"
      ]
     },
     "metadata": {},
     "output_type": "display_data"
    }
   ],
   "source": [
    "from pymeshfix import MeshFix\n",
    "\n",
    "model_radius = 0.05 # [m]\n",
    "model_thickness = 0.0006 # [m]\n",
    "hole_radius = 0.0115 # ランプを入れる穴の半径[m]\n",
    "\n",
    "# 月面と月影のメッシュを結合して、ランプのシェルを作成\n",
    "outer_mesh = lunar_surface_decimated.scale(model_radius / moon_radius, inplace=False)\n",
    "outer_mesh = MeshFix(outer_mesh).mesh\n",
    "inner_mesh = lunar_shade_surface_decimated.scale((model_radius - model_thickness)/ moon_radius, inplace=False)\n",
    "inner_mesh.flip_normals() # 面を内側へ向ける\n",
    "inner_mesh = MeshFix(inner_mesh).mesh\n",
    "lunar_shell = inner_mesh.merge(outer_mesh)\n",
    "\n",
    "# # Rotate around the y-axis\n",
    "# rotation_angle = 20 # [degrees]\n",
    "# lunar_shell.rotate_y(rotation_angle)\n",
    "\n",
    "# ランプの穴を作成\n",
    "hole_center = (0, 0, -model_radius)\n",
    "cyl = pv.Cylinder(\n",
    "    radius=hole_radius,\n",
    "    height=model_radius,\n",
    "    direction=(0, 0, -1),\n",
    "    center=hole_center)\n",
    "lunar_lamp = lunar_shell.triangulate(inplace=False)\n",
    "cyl.triangulate(inplace=True)\n",
    "lunar_lamp = lunar_lamp.boolean_difference(cyl)\n",
    "\n",
    "# ランプを表示\n",
    "plotter = pv.Plotter()\n",
    "plotter.add_mesh(lunar_lamp, show_edges=False, color=\"white\", opacity=0.9)\n",
    "plotter.add_title(\"Lunar Lamp\")\n",
    "plotter.show()"
   ]
  },
  {
   "cell_type": "markdown",
   "metadata": {},
   "source": [
    "STLファイルとして保存します。"
   ]
  },
  {
   "cell_type": "code",
   "execution_count": 34,
   "metadata": {},
   "outputs": [],
   "source": [
    "lunar_lamp.save(\"model/lunar_lamp.stl\")"
   ]
  }
 ],
 "metadata": {
  "kernelspec": {
   "display_name": ".venv",
   "language": "python",
   "name": "python3"
  },
  "language_info": {
   "codemirror_mode": {
    "name": "ipython",
    "version": 3
   },
   "file_extension": ".py",
   "mimetype": "text/x-python",
   "name": "python",
   "nbconvert_exporter": "python",
   "pygments_lexer": "ipython3",
   "version": "3.12.8"
  }
 },
 "nbformat": 4,
 "nbformat_minor": 2
}
